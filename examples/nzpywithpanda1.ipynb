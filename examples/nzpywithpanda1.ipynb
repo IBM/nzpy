{
 "cells": [
  {
   "cell_type": "markdown",
   "metadata": {},
   "source": [
    "# Nzpy simple load and unload example"
   ]
  },
  {
   "cell_type": "markdown",
   "metadata": {},
   "source": [
    "### Setup"
   ]
  },
  {
   "cell_type": "markdown",
   "metadata": {},
   "source": [
    "pip install nzpy"
   ]
  },
  {
   "cell_type": "markdown",
   "metadata": {},
   "source": [
    "### Make connection"
   ]
  },
  {
   "cell_type": "code",
   "execution_count": 1,
   "metadata": {},
   "outputs": [],
   "source": [
    "import nzpy\n",
    "import pandas as pd\n",
    "\n",
    "conn = nzpy.connect(user=\"admin\", password=\"password\",host='localhost', port=5480, database=\"DB1\", securityLevel=0)"
   ]
  },
  {
   "cell_type": "markdown",
   "metadata": {},
   "source": [
    "### Drop table if exists"
   ]
  },
  {
   "cell_type": "code",
   "execution_count": 2,
   "metadata": {},
   "outputs": [],
   "source": [
    "cursor = conn.cursor()\n",
    "try:\n",
    "    cursor.execute(\"drop table customerAddress\")\n",
    "except nzpy.DatabaseError as e:\n",
    "    pass\n",
    "except Exception as e:\n",
    "    pass\n"
   ]
  },
  {
   "cell_type": "markdown",
   "metadata": {},
   "source": [
    "### Create table and insert rows"
   ]
  },
  {
   "cell_type": "code",
   "execution_count": 3,
   "metadata": {},
   "outputs": [
    {
     "data": {
      "text/plain": [
       "<nzpy.core.Cursor at 0x26a523a6408>"
      ]
     },
     "execution_count": 3,
     "metadata": {},
     "output_type": "execute_result"
    }
   ],
   "source": [
    "cursor.execute(\"create table customerAddress(Id int, Name varchar(10), Address varchar(50), Email varchar(20) )\")\n",
    "cursor.execute(\"insert into customerAddress values (1,'Jack','High street London', 'jack4321@ibm.com')\")\n",
    "cursor.execute(\"insert into customerAddress values (2,'Tom', 'Park street NY','tom1234@ibm.com')\")\n",
    "cursor.execute(\"insert into customerAddress values (3,'James', 'MG street SG','james678@ibm.com')\")"
   ]
  },
  {
   "cell_type": "markdown",
   "metadata": {},
   "source": [
    "### Select rows from table using fetchall()"
   ]
  },
  {
   "cell_type": "code",
   "execution_count": 4,
   "metadata": {},
   "outputs": [
    {
     "name": "stdout",
     "output_type": "stream",
     "text": [
      "colums1 = 1\n",
      "colums2 = Jack\n",
      "colums3 = High street London\n",
      "colums1 = 2\n",
      "colums2 = Tom\n",
      "colums3 = Park street NY\n",
      "colums1 = 3\n",
      "colums2 = James\n",
      "colums3 = MG street SG\n"
     ]
    }
   ],
   "source": [
    "cursor.execute(\"select * from customerAddress\")\n",
    "results = cursor.fetchall()\n",
    "\n",
    "for c1,c2,c3,c4 in results:\n",
    "    print(\"colums1 = %s\" % (c1))\n",
    "    print(\"colums2 = %s\" % (c2))\n",
    "    print(\"colums3 = %s\" % (c3))\n"
   ]
  },
  {
   "cell_type": "markdown",
   "metadata": {},
   "source": [
    "### Select rows from table using pandas read_sql_query()"
   ]
  },
  {
   "cell_type": "code",
   "execution_count": 5,
   "metadata": {},
   "outputs": [
    {
     "data": {
      "text/html": [
       "<div>\n",
       "<style scoped>\n",
       "    .dataframe tbody tr th:only-of-type {\n",
       "        vertical-align: middle;\n",
       "    }\n",
       "\n",
       "    .dataframe tbody tr th {\n",
       "        vertical-align: top;\n",
       "    }\n",
       "\n",
       "    .dataframe thead th {\n",
       "        text-align: right;\n",
       "    }\n",
       "</style>\n",
       "<table border=\"1\" class=\"dataframe\">\n",
       "  <thead>\n",
       "    <tr style=\"text-align: right;\">\n",
       "      <th></th>\n",
       "      <th>id</th>\n",
       "      <th>name</th>\n",
       "      <th>address</th>\n",
       "      <th>email</th>\n",
       "    </tr>\n",
       "  </thead>\n",
       "  <tbody>\n",
       "    <tr>\n",
       "      <td>0</td>\n",
       "      <td>1</td>\n",
       "      <td>Jack</td>\n",
       "      <td>High street London</td>\n",
       "      <td>jack4321@ibm.com</td>\n",
       "    </tr>\n",
       "    <tr>\n",
       "      <td>1</td>\n",
       "      <td>2</td>\n",
       "      <td>Tom</td>\n",
       "      <td>Park street NY</td>\n",
       "      <td>tom1234@ibm.com</td>\n",
       "    </tr>\n",
       "    <tr>\n",
       "      <td>2</td>\n",
       "      <td>3</td>\n",
       "      <td>James</td>\n",
       "      <td>MG street SG</td>\n",
       "      <td>james678@ibm.com</td>\n",
       "    </tr>\n",
       "  </tbody>\n",
       "</table>\n",
       "</div>"
      ],
      "text/plain": [
       "   id   name             address             email\n",
       "0   1   Jack  High street London  jack4321@ibm.com\n",
       "1   2    Tom      Park street NY   tom1234@ibm.com\n",
       "2   3  James        MG street SG  james678@ibm.com"
      ]
     },
     "execution_count": 5,
     "metadata": {},
     "output_type": "execute_result"
    }
   ],
   "source": [
    "result = pd.read_sql_query(\"select * from customerAddress\", conn)\n",
    "result.columns = [c.decode().lower() for c in result.columns]\n",
    "result\n"
   ]
  },
  {
   "cell_type": "markdown",
   "metadata": {},
   "source": [
    "### Create external table and dump data to csv file"
   ]
  },
  {
   "cell_type": "code",
   "execution_count": 6,
   "metadata": {},
   "outputs": [
    {
     "data": {
      "text/html": [
       "<div>\n",
       "<style scoped>\n",
       "    .dataframe tbody tr th:only-of-type {\n",
       "        vertical-align: middle;\n",
       "    }\n",
       "\n",
       "    .dataframe tbody tr th {\n",
       "        vertical-align: top;\n",
       "    }\n",
       "\n",
       "    .dataframe thead th {\n",
       "        text-align: right;\n",
       "    }\n",
       "</style>\n",
       "<table border=\"1\" class=\"dataframe\">\n",
       "  <thead>\n",
       "    <tr style=\"text-align: right;\">\n",
       "      <th></th>\n",
       "      <th>id</th>\n",
       "      <th>name</th>\n",
       "      <th>address</th>\n",
       "      <th>email</th>\n",
       "    </tr>\n",
       "  </thead>\n",
       "  <tbody>\n",
       "    <tr>\n",
       "      <td>0</td>\n",
       "      <td>1</td>\n",
       "      <td>Jack</td>\n",
       "      <td>High street London</td>\n",
       "      <td>jack4321@ibm.com</td>\n",
       "    </tr>\n",
       "    <tr>\n",
       "      <td>1</td>\n",
       "      <td>2</td>\n",
       "      <td>Tom</td>\n",
       "      <td>Park street NY</td>\n",
       "      <td>tom1234@ibm.com</td>\n",
       "    </tr>\n",
       "    <tr>\n",
       "      <td>2</td>\n",
       "      <td>3</td>\n",
       "      <td>James</td>\n",
       "      <td>MG street SG</td>\n",
       "      <td>james678@ibm.com</td>\n",
       "    </tr>\n",
       "  </tbody>\n",
       "</table>\n",
       "</div>"
      ],
      "text/plain": [
       "   id   name             address             email\n",
       "0   1   Jack  High street London  jack4321@ibm.com\n",
       "1   2    Tom      Park street NY   tom1234@ibm.com\n",
       "2   3  James        MG street SG  james678@ibm.com"
      ]
     },
     "execution_count": 6,
     "metadata": {},
     "output_type": "execute_result"
    }
   ],
   "source": [
    "with conn.cursor() as cursor:\n",
    "    cursor.execute(\"create external table 'cust.csv' using ( remotesource 'python' delim ',' logDir '.') as select * from customerAddress\")\n",
    "\n",
    "df = pd.read_csv('cust.csv', names=['id', 'name', 'address', 'email'])\n",
    "df\n"
   ]
  },
  {
   "cell_type": "markdown",
   "metadata": {},
   "source": [
    "### Read data from csv file and load into table"
   ]
  },
  {
   "cell_type": "code",
   "execution_count": 7,
   "metadata": {},
   "outputs": [],
   "source": [
    "with conn.cursor() as cursor:\n",
    "    cursor.execute(\"insert into customerAddress select * from external 'cust.csv' using (delim ',' remotesource 'python' logDir '.')\")"
   ]
  },
  {
   "cell_type": "code",
   "execution_count": 8,
   "metadata": {},
   "outputs": [
    {
     "data": {
      "text/html": [
       "<div>\n",
       "<style scoped>\n",
       "    .dataframe tbody tr th:only-of-type {\n",
       "        vertical-align: middle;\n",
       "    }\n",
       "\n",
       "    .dataframe tbody tr th {\n",
       "        vertical-align: top;\n",
       "    }\n",
       "\n",
       "    .dataframe thead th {\n",
       "        text-align: right;\n",
       "    }\n",
       "</style>\n",
       "<table border=\"1\" class=\"dataframe\">\n",
       "  <thead>\n",
       "    <tr style=\"text-align: right;\">\n",
       "      <th></th>\n",
       "      <th>id</th>\n",
       "      <th>name</th>\n",
       "      <th>address</th>\n",
       "      <th>email</th>\n",
       "    </tr>\n",
       "  </thead>\n",
       "  <tbody>\n",
       "    <tr>\n",
       "      <td>0</td>\n",
       "      <td>1</td>\n",
       "      <td>Jack</td>\n",
       "      <td>High street London</td>\n",
       "      <td>jack4321@ibm.com</td>\n",
       "    </tr>\n",
       "    <tr>\n",
       "      <td>1</td>\n",
       "      <td>2</td>\n",
       "      <td>Tom</td>\n",
       "      <td>Park street NY</td>\n",
       "      <td>tom1234@ibm.com</td>\n",
       "    </tr>\n",
       "    <tr>\n",
       "      <td>2</td>\n",
       "      <td>3</td>\n",
       "      <td>James</td>\n",
       "      <td>MG street SG</td>\n",
       "      <td>james678@ibm.com</td>\n",
       "    </tr>\n",
       "    <tr>\n",
       "      <td>3</td>\n",
       "      <td>1</td>\n",
       "      <td>Jack</td>\n",
       "      <td>High street London</td>\n",
       "      <td>jack4321@ibm.com</td>\n",
       "    </tr>\n",
       "    <tr>\n",
       "      <td>4</td>\n",
       "      <td>2</td>\n",
       "      <td>Tom</td>\n",
       "      <td>Park street NY</td>\n",
       "      <td>tom1234@ibm.com</td>\n",
       "    </tr>\n",
       "    <tr>\n",
       "      <td>5</td>\n",
       "      <td>3</td>\n",
       "      <td>James</td>\n",
       "      <td>MG street SG</td>\n",
       "      <td>james678@ibm.com</td>\n",
       "    </tr>\n",
       "  </tbody>\n",
       "</table>\n",
       "</div>"
      ],
      "text/plain": [
       "   id   name             address             email\n",
       "0   1   Jack  High street London  jack4321@ibm.com\n",
       "1   2    Tom      Park street NY   tom1234@ibm.com\n",
       "2   3  James        MG street SG  james678@ibm.com\n",
       "3   1   Jack  High street London  jack4321@ibm.com\n",
       "4   2    Tom      Park street NY   tom1234@ibm.com\n",
       "5   3  James        MG street SG  james678@ibm.com"
      ]
     },
     "execution_count": 8,
     "metadata": {},
     "output_type": "execute_result"
    }
   ],
   "source": [
    "result = pd.read_sql_query(\"select * from customerAddress\", conn)\n",
    "result.columns = [c.decode().lower() for c in result.columns]\n",
    "result"
   ]
  },
  {
   "cell_type": "code",
   "execution_count": null,
   "metadata": {},
   "outputs": [],
   "source": []
  }
 ],
 "metadata": {
  "kernelspec": {
   "display_name": "Python 3",
   "language": "python",
   "name": "python3"
  },
  "language_info": {
   "codemirror_mode": {
    "name": "ipython",
    "version": 3
   },
   "file_extension": ".py",
   "mimetype": "text/x-python",
   "name": "python",
   "nbconvert_exporter": "python",
   "pygments_lexer": "ipython3",
   "version": "3.7.4"
  }
 },
 "nbformat": 4,
 "nbformat_minor": 2
}
